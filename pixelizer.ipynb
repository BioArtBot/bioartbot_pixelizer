{
 "cells": [
  {
   "cell_type": "markdown",
   "metadata": {},
   "source": [
    "### Enter the path of the file to upload, the title, and the email to send it to\n",
    "Make sure all three are correct. If you submit more than once with the same email, the website won't accept it until the first image is printed"
   ]
  },
  {
   "cell_type": "code",
   "execution_count": 40,
   "metadata": {},
   "outputs": [],
   "source": [
    "filepath = \"images/test_img.jpg\"\n",
    "email = \"contact@bioartbot.org\"\n",
    "title = \"Test Photo\""
   ]
  },
  {
   "cell_type": "markdown",
   "metadata": {},
   "source": [
    "## Take the wild image-processing ride!\n",
    "\n",
    "Run the code below to create the image that will be sent to BioArtBot\n",
    "\n",
    "Inspect it to make sure it looks good."
   ]
  },
  {
   "cell_type": "code",
   "execution_count": 41,
   "metadata": {},
   "outputs": [
    {
     "name": "stdout",
     "output_type": "stream",
     "text": [
      "Processed Image\n"
     ]
    },
    {
     "data": {
      "image/png": "[encoded data removed]",
      "text/plain": [
       "<PIL.Image.Image image mode=P size=520x520>"
      ]
     },
     "metadata": {},
     "output_type": "display_data"
    }
   ],
   "source": [
    "from PIL import Image\n",
    "from PIL import ImagePalette\n",
    "from PIL import ImageOps\n",
    "import numpy as np\n",
    "import pandas as pd\n",
    "import requests\n",
    "import json\n",
    "from requests.structures import CaseInsensitiveDict\n",
    "\n",
    "f_size=(26,26)\n",
    "\n",
    "#low the image with mpimg.read\n",
    "img = Image.open(filepath)\n",
    "original_shape=[int(img.size[0]/10), int(img.size[1]/10)]\n",
    "#print(original_shape)\n",
    "\n",
    "img.thumbnail(f_size)\n",
    "img = ImageOps.pad(img,size=f_size, color=(255,255,255))\n",
    "\n",
    "# Send a GET method to http://www.bioartbot.org/artpieces and get the response\n",
    "response = requests.get('http://www.bioartbot.org/artpieces')\n",
    "# parse the response into a json\n",
    "data = json.loads(response.text)\n",
    "\n",
    "pall = []\n",
    "\n",
    "for i in data[\"meta\"][\"bacterial_colors\"]:\n",
    "    pall = pall + [i[\"rgba\"][:-1]]\n",
    "\n",
    "#fill pall with (0,0,0) until have 256 as the length\n",
    "pall = pall + [(255,255,255)] * (256 - len(pall))\n",
    "\n",
    "#flatten pall\n",
    "pall = [item for sublist in pall for item in sublist]\n",
    "\n",
    "#create a new palette\n",
    "p_img = Image.new('P', (1, 1))\n",
    "p_img.putpalette(pall)\n",
    "\n",
    "img2 = img.quantize(\"P\", palette=p_img, dither=1)\n",
    "\n",
    "print(\"Processed Image\")\n",
    "display(img2.resize((f_size[0]*20, f_size[1]*20)))\n",
    "\n",
    "\n",
    "\n"
   ]
  },
  {
   "cell_type": "markdown",
   "metadata": {},
   "source": [
    "### Run the code below to send the image to BioArtBot\n",
    "\n",
    "A good response is `{\"data\":null}\\n`"
   ]
  },
  {
   "cell_type": "code",
   "execution_count": 34,
   "metadata": {},
   "outputs": [
    {
     "data": {
      "text/plain": [
       "'{\"data\":null}\\n'"
      ]
     },
     "metadata": {},
     "output_type": "display_data"
    }
   ],
   "source": [
    "color_dict = {}\n",
    "for i in range(0,img2.size[0]):\n",
    "    for j in range(0,img2.size[1]):\n",
    "        color = str(img2.getpixel((i,j)) + 1)\n",
    "        if color != \"6\":\n",
    "            #append color to color_dict[color]\n",
    "            if color in color_dict:\n",
    "                color_dict[color].append((j,i))\n",
    "            else:\n",
    "                color_dict[color] = [(j,i)]\n",
    "                \n",
    "\n",
    "data = {\n",
    "    \"email\": email,\n",
    "    \"title\": title,\n",
    "    \"art\": color_dict,\n",
    "    \"canvas_size\":{\"x\":f_size[0],\"y\":f_size[1]},\n",
    "}\n",
    "\n",
    "data_json = json.dumps(data)\n",
    "\n",
    "headers = CaseInsensitiveDict()\n",
    "headers[\"Content-Type\"] = \"application/json\"\n",
    "headers[\"dataType\"] = \"json\"\n",
    "\n",
    "#send a post request to http://www.bioartbot.org/artpieces\n",
    "response = requests.post('http://www.bioartbot.org/artpieces', data=data_json, headers=headers)\n",
    "display(response.text)"
   ]
  }
 ],
 "metadata": {
  "kernelspec": {
   "display_name": "Python 3 (ipykernel)",
   "language": "python",
   "name": "python3"
  },
  "language_info": {
   "codemirror_mode": {
    "name": "ipython",
    "version": 3
   },
   "file_extension": ".py",
   "mimetype": "text/x-python",
   "name": "python",
   "nbconvert_exporter": "python",
   "pygments_lexer": "ipython3",
   "version": "3.10.1"
  },
  "orig_nbformat": 4,
  "vscode": {
   "interpreter": {
    "hash": "30281b19a9612ef2f4a849e0af54a0e2c2822c26d417b5f2faa61596c8712a23"
   }
  }
 },
 "nbformat": 4,
 "nbformat_minor": 2
}
