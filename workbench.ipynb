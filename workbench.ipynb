{
 "cells": [
  {
   "cell_type": "code",
   "execution_count": 124,
   "metadata": {},
   "outputs": [
    {
     "name": "stdout",
     "output_type": "stream",
     "text": [
      "(40, 40)\n"
     ]
    }
   ],
   "source": [
    "%matplotlib inline\n",
    "from PIL import Image\n",
    "from PIL import ImagePalette\n",
    "from PIL import ImageOps\n",
    "\n",
    "f_size=(40,40)\n",
    "\n",
    "#low the image with mpimg.read\n",
    "img = Image.open(\"example.jpeg\")\n",
    "original_shape=[int(img.size[0]/10), int(img.size[1]/10)]\n",
    "\n",
    "img.thumbnail(f_size)\n",
    "img = ImageOps.pad(img,size=f_size, color=(255,255,255))\n",
    "\n",
    "print(img.size)\n",
    "\n",
    "\n",
    "\n",
    "\n",
    "\n"
   ]
  },
  {
   "cell_type": "code",
   "execution_count": 125,
   "metadata": {},
   "outputs": [
    {
     "data": {
      "image/png": "[encoded data removed]",
      "text/plain": [
       "<PIL.Image.Image image mode=P size=400x400 at 0x25D38799208>"
      ]
     },
     "metadata": {},
     "output_type": "display_data"
    }
   ],
   "source": [
    "pall = [\n",
    "    (0, 128, 128),\n",
    "    (255, 192, 203),\n",
    "    (255, 255, 0),\n",
    "    (0, 0, 255),\n",
    "    (255, 165, 0)]\n",
    "\n",
    "#fill pall with (0,0,0) until have 256 as the length\n",
    "pall = pall + [(255,255,255)] * (256 - len(pall))\n",
    "\n",
    "#flatten pall\n",
    "pall = [item for sublist in pall for item in sublist]\n",
    "\n",
    "#create a new palette\n",
    "p_img = Image.new('P', (1, 1))\n",
    "p_img.putpalette(pall)\n",
    "\n",
    "img2 = img.quantize(\"P\", palette=p_img, dither=0)\n",
    "display(img2.resize((400,400)))\n"
   ]
  }
 ],
 "metadata": {
  "interpreter": {
   "hash": "96701f8d80d5f47f105176de5f3ea6c1508c298e19d4f9f9abd02765727b1fcd"
  },
  "kernelspec": {
   "display_name": "Python 3.7.7 64-bit",
   "language": "python",
   "name": "python3"
  },
  "language_info": {
   "codemirror_mode": {
    "name": "ipython",
    "version": 3
   },
   "file_extension": ".py",
   "mimetype": "text/x-python",
   "name": "python",
   "nbconvert_exporter": "python",
   "pygments_lexer": "ipython3",
   "version": "3.7.7"
  },
  "orig_nbformat": 4
 },
 "nbformat": 4,
 "nbformat_minor": 2
}
